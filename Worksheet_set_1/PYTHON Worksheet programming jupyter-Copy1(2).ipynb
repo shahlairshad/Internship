{
 "cells": [
  {
   "cell_type": "markdown",
   "id": "627aac0d",
   "metadata": {},
   "source": [
    "PYTHON WORSHEET 1"
   ]
  },
  {
   "cell_type": "markdown",
   "id": "2c29b0d8",
   "metadata": {},
   "source": [
    "   1.Which of the following operators is used to calculate remainder in a division? \n",
    "    \n",
    "C) %\n",
    "\n",
    "2. In python 2//3 is equal to?\n",
    "\n",
    "C) 1\n",
    "\n",
    "3. In python, 6<<2 is equal to?\n",
    "\n",
    " A) 36\n",
    "    \n",
    "4. In python, 6&2 will give which of the following as output?\n",
    "\n",
    "A) 2\n",
    "\n",
    "5. In python, 6|2 will give which of the following as output?\n",
    "\n",
    "D) 6\n",
    "\n",
    "6. What does the finally keyword denotes in python?\n",
    "\n",
    "C) the finally block will be executed no matter if the try block raises an error or not"
   ]
  },
  {
   "cell_type": "markdown",
   "id": "85ecc517",
   "metadata": {},
   "source": [
    "7. What does raise keyword is used for in python?\n",
    "\n",
    "A) It is used to raise an exception.\n"
   ]
  },
  {
   "cell_type": "markdown",
   "id": "2f199b45",
   "metadata": {},
   "source": [
    "8. Which of the following is a common use case of yield keyword in python?\n",
    "\n",
    "C) in defining a generator.\n",
    "\n",
    "9. Which of the following are the valid variable names?\n",
    "\n",
    "A) _abc  & C) abc2\n",
    "\n",
    "10. Which of the following are the keywords in python?\n",
    "\n",
    " A) yield & B) raise\n"
   ]
  },
  {
   "cell_type": "markdown",
   "id": "b022e061",
   "metadata": {},
   "source": [
    "11. Write a python program to find the factorial of a number."
   ]
  },
  {
   "cell_type": "code",
   "execution_count": 6,
   "id": "9149cacb",
   "metadata": {},
   "outputs": [],
   "source": [
    "def factorial(n):\n",
    "    res=1\n",
    "    for i in range(2,n+1):\n",
    "        res*=i\n",
    "    return res"
   ]
  },
  {
   "cell_type": "code",
   "execution_count": 9,
   "id": "b86be4c1",
   "metadata": {},
   "outputs": [],
   "source": [
    "num=9;"
   ]
  },
  {
   "cell_type": "code",
   "execution_count": 10,
   "id": "38ab11ab",
   "metadata": {},
   "outputs": [
    {
     "name": "stdout",
     "output_type": "stream",
     "text": [
      "factorial of 9 is 362880\n"
     ]
    }
   ],
   "source": [
    "print(\"factorial of\",num,\"is\",factorial(num))"
   ]
  },
  {
   "cell_type": "markdown",
   "id": "12493bfb",
   "metadata": {},
   "source": [
    "12. Write a python program to find whether a number is prime or composite."
   ]
  },
  {
   "cell_type": "code",
   "execution_count": 1,
   "id": "9ba52836",
   "metadata": {},
   "outputs": [
    {
     "name": "stdout",
     "output_type": "stream",
     "text": [
      "37 is a prime number\n"
     ]
    }
   ],
   "source": [
    "num = 37\n",
    "if num > 1:\n",
    "   for i in range(2,num):\n",
    "       if (num % i) == 0:\n",
    "           print(num,\"is not a prime number\")\n",
    "           print(i,\"times\",num//i,\"is\",num)\n",
    "           break\n",
    "   else:\n",
    "       print(num,\"is a prime number\")\n",
    "else:\n",
    "   print(num,\"is not a prime number\")   \n"
   ]
  },
  {
   "cell_type": "markdown",
   "id": "43911edd",
   "metadata": {},
   "source": [
    "13. Write a python program to check whether a given string is palindrome or not."
   ]
  },
  {
   "cell_type": "code",
   "execution_count": 2,
   "id": "26d2485d",
   "metadata": {},
   "outputs": [
    {
     "name": "stdout",
     "output_type": "stream",
     "text": [
      "The string is a palindrome.\n"
     ]
    }
   ],
   "source": [
    "my_str = 'malayalam'\n",
    "rev_str = reversed(my_str)\n",
    "if list(my_str) == list(rev_str):\n",
    "   print(\"The string is a palindrome.\")\n",
    "else:\n",
    "   print(\"The string is not a palindrome.\")\n"
   ]
  },
  {
   "cell_type": "markdown",
   "id": "e23ace43",
   "metadata": {},
   "source": [
    "14. Write a Python program to get the third side of right-angled triangle from two given sides."
   ]
  },
  {
   "cell_type": "code",
   "execution_count": 3,
   "id": "bf8b274f",
   "metadata": {},
   "outputs": [
    {
     "name": "stdout",
     "output_type": "stream",
     "text": [
      "Hypotenuse = 5.0\n",
      "Adjacent = 4.0\n",
      "Opposite = 3.0\n",
      "No unknown side present!\n"
     ]
    }
   ],
   "source": [
    "def pythagoras(opposite_side,adjacent_side,hypotenuse):\n",
    "        if opposite_side == str(\"x\"):\n",
    "            return (\"Opposite = \" + str(((hypotenuse**2) - (adjacent_side**2))**0.5))\n",
    "        elif adjacent_side == str(\"x\"):\n",
    "            return (\"Adjacent = \" + str(((hypotenuse**2) - (opposite_side**2))**0.5))\n",
    "        elif hypotenuse == str(\"x\"):\n",
    "            return (\"Hypotenuse = \" + str(((opposite_side**2) + (adjacent_side**2))**0.5))\n",
    "        else:\n",
    "            return \"No unknown side present!\"\n",
    "    \n",
    "print(pythagoras(3,4,'x'))\n",
    "print(pythagoras(3,'x',5))\n",
    "print(pythagoras('x',4,5))\n",
    "print(pythagoras(3,4,5))"
   ]
  },
  {
   "cell_type": "markdown",
   "id": "ed83d70a",
   "metadata": {},
   "source": [
    "15.Write a python program to print the frequency of each of the characters present in a given string."
   ]
  },
  {
   "cell_type": "code",
   "execution_count": 1,
   "id": "9edcb357",
   "metadata": {},
   "outputs": [
    {
     "name": "stdout",
     "output_type": "stream",
     "text": [
      "Count of all characters in Malayalam is : \n",
      "{'M': 1, 'a': 3, 'l': 2, 'y': 1, 'm': 1}\n"
     ]
    }
   ],
   "source": [
    "test_str = \"Malayalam\"\n",
    "  \n",
    "# using dict.get() to get count \n",
    "# of each element in string \n",
    "res = {}\n",
    "  \n",
    "for keys in test_str:\n",
    "    res[keys] = res.get(keys, 0) + 1\n",
    "  \n",
    "# printing result \n",
    "print (\"Count of all characters in Malayalam is : \\n\"\n",
    "                                             +  str(res))\n"
   ]
  },
  {
   "cell_type": "code",
   "execution_count": null,
   "id": "385b9647",
   "metadata": {},
   "outputs": [],
   "source": []
  }
 ],
 "metadata": {
  "kernelspec": {
   "display_name": "Python 3 (ipykernel)",
   "language": "python",
   "name": "python3"
  },
  "language_info": {
   "codemirror_mode": {
    "name": "ipython",
    "version": 3
   },
   "file_extension": ".py",
   "mimetype": "text/x-python",
   "name": "python",
   "nbconvert_exporter": "python",
   "pygments_lexer": "ipython3",
   "version": "3.9.7"
  }
 },
 "nbformat": 4,
 "nbformat_minor": 5
}
